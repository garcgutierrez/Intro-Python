{
 "cells": [
  {
   "cell_type": "markdown",
   "metadata": {},
   "source": [
    "# Bienvenidos a la introducción a Python"
   ]
  },
  {
   "cell_type": "markdown",
   "metadata": {},
   "source": [
    "### La mayoría de las operaciones son muy intuitivas:"
   ]
  },
  {
   "cell_type": "code",
   "execution_count": 1,
   "metadata": {},
   "outputs": [
    {
     "name": "stdout",
     "output_type": "stream",
     "text": [
      "15\n",
      "50\n",
      "25\n",
      "5\n"
     ]
    }
   ],
   "source": [
    "x = 5\n",
    "y = 10 \n",
    "print(x+y)\n",
    "print(x*y)\n",
    "print(x**2)\n",
    "print(x%y)"
   ]
  },
  {
   "cell_type": "markdown",
   "metadata": {},
   "source": [
    "### Para cargar las librerias científicas se usan expresiones del tipo:"
   ]
  },
  {
   "cell_type": "code",
   "execution_count": 3,
   "metadata": {},
   "outputs": [],
   "source": [
    "from scipy import integrate\n",
    "import numpy as np"
   ]
  },
  {
   "cell_type": "code",
   "execution_count": 4,
   "metadata": {},
   "outputs": [],
   "source": [
    "from pylab import *"
   ]
  },
  {
   "cell_type": "code",
   "execution_count": 5,
   "metadata": {},
   "outputs": [
    {
     "name": "stdout",
     "output_type": "stream",
     "text": [
      "Resultado 1: [[0. 0. 0. 0. 0.]\n",
      " [0. 0. 0. 0. 0.]\n",
      " [0. 0. 0. 0. 0.]\n",
      " [0. 0. 0. 0. 0.]\n",
      " [0. 0. 0. 0. 0.]] \n",
      " 2:[[1. 1. 1. 1. 1.]\n",
      " [1. 1. 1. 1. 1.]\n",
      " [1. 1. 1. 1. 1.]\n",
      " [1. 1. 1. 1. 1.]\n",
      " [1. 1. 1. 1. 1.]]  \n",
      " 3:[[1. 0. 0. 0. 0.]\n",
      " [0. 1. 0. 0. 0.]\n",
      " [0. 0. 1. 0. 0.]\n",
      " [0. 0. 0. 1. 0.]\n",
      " [0. 0. 0. 0. 1.]] \n",
      " 4:[[0.63700881 0.68002819 0.3385242  0.129347   0.58788781]\n",
      " [0.35630804 0.12799576 0.20301661 0.55535128 0.96911415]\n",
      " [0.33053435 0.6132394  0.00414678 0.50860625 0.90732754]\n",
      " [0.65540693 0.66141809 0.33789511 0.01666496 0.66058103]\n",
      " [0.2673568  0.06228682 0.25170736 0.35859831 0.5685151 ]]\n"
     ]
    }
   ],
   "source": [
    "matriz_de_0 = zeros([5,5])\n",
    "matriz_de_1 = ones([5,5])\n",
    "matriz_identidad = eye(5)\n",
    "matriz_random = random([5,5])\n",
    "print('Resultado 1: {} \\n 2:{}  \\n 3:{} \\n 4:{}'.format(matriz_de_0, matriz_de_1, matriz_identidad, matriz_random))"
   ]
  },
  {
   "cell_type": "code",
   "execution_count": 6,
   "metadata": {},
   "outputs": [],
   "source": [
    "import timeit"
   ]
  },
  {
   "cell_type": "code",
   "execution_count": 9,
   "metadata": {},
   "outputs": [],
   "source": [
    "def norm_vector():\n",
    "    vector = random(5000)\n",
    "    norm = 0\n",
    "    for n in vector:\n",
    "        norm+=n\n",
    "    norm = sqrt(norm)\n",
    "    return(norm)"
   ]
  },
  {
   "cell_type": "code",
   "execution_count": 12,
   "metadata": {},
   "outputs": [
    {
     "data": {
      "text/plain": [
       "1.3147777818074076"
      ]
     },
     "execution_count": 12,
     "metadata": {},
     "output_type": "execute_result"
    }
   ],
   "source": [
    "timeit.timeit(norm_vector, number=1000)"
   ]
  },
  {
   "cell_type": "code",
   "execution_count": 13,
   "metadata": {},
   "outputs": [],
   "source": [
    "def norm_vector_vectorizado():\n",
    "    vector = random(5000)\n",
    "    norm = sqrt(sum(vector**2))\n",
    "    return(norm)"
   ]
  },
  {
   "cell_type": "code",
   "execution_count": 20,
   "metadata": {},
   "outputs": [
    {
     "data": {
      "text/plain": [
       "0.09277078875567213"
      ]
     },
     "execution_count": 20,
     "metadata": {},
     "output_type": "execute_result"
    }
   ],
   "source": [
    "timeit.timeit(norm_vector_vectorizado, number=1000)"
   ]
  },
  {
   "cell_type": "code",
   "execution_count": 18,
   "metadata": {},
   "outputs": [],
   "source": [
    "def norm_vector_func():\n",
    "    vector = random(5000)\n",
    "    normv = norm(vector)\n",
    "    return(normv)"
   ]
  },
  {
   "cell_type": "code",
   "execution_count": 21,
   "metadata": {},
   "outputs": [
    {
     "data": {
      "text/plain": [
       "0.09420310570004631"
      ]
     },
     "execution_count": 21,
     "metadata": {},
     "output_type": "execute_result"
    }
   ],
   "source": [
    "timeit.timeit(norm_vector_func, number=1000)"
   ]
  },
  {
   "cell_type": "code",
   "execution_count": 28,
   "metadata": {},
   "outputs": [
    {
     "name": "stdout",
     "output_type": "stream",
     "text": [
      "integers: [ 0  1  2  3  4  5  6  7  8  9 10 11 12 13 14 15 16 17 18 19 20 21 22 23\n",
      " 24 25 26 27]   \n",
      "  pare: [ 0  2  4  6  8 10 12 14 16 18 20 22 24 26]    \n",
      " multiplos 4 lista: [0, 4, 8, 12, 16, 20, 24] \n",
      " multiplos 4 array [ 0  4  8 12 16 20 24]\n"
     ]
    }
   ],
   "source": [
    "integers = arange(28)\n",
    "pares = arange(0,28,2)\n",
    "multiplos_4_lista = [num for num in pares if num%4==0]\n",
    "multiplos_4_array = array([num for num in pares if num%4==0])\n",
    "print('integers: {}   \\n  pare: {}    \\n múltiplos 4 lista: {} \\n múltiplos 4 array {}'.format(integers,\n",
    "                    pares, multiplos_4_lista, multiplos_4_array))"
   ]
  },
  {
   "cell_type": "code",
   "execution_count": 31,
   "metadata": {},
   "outputs": [
    {
     "data": {
      "text/plain": [
       "Text(0, 0.5, 'y-axis')"
      ]
     },
     "execution_count": 31,
     "metadata": {},
     "output_type": "execute_result"
    },
    {
     "data": {
      "image/png": "[encoded data removed]",
      "text/plain": [
       "<Figure size 432x288 with 1 Axes>"
      ]
     },
     "metadata": {
      "needs_background": "light"
     },
     "output_type": "display_data"
    }
   ],
   "source": [
    "t = linspace(0, 2*pi, 100)\n",
    "y = sin(t)**2+cos(t)+exp(1j*t)\n",
    "plot(t,real(y),'-r')\n",
    "plot(t, imag(y), '--*k')\n",
    "xlabel('t')\n",
    "ylabel('y-axis')"
   ]
  },
  {
   "cell_type": "code",
   "execution_count": null,
   "metadata": {},
   "outputs": [],
   "source": []
  },
  {
   "cell_type": "code",
   "execution_count": null,
   "metadata": {},
   "outputs": [],
   "source": []
  },
  {
   "cell_type": "code",
   "execution_count": null,
   "metadata": {},
   "outputs": [],
   "source": []
  },
  {
   "cell_type": "code",
   "execution_count": null,
   "metadata": {},
   "outputs": [],
   "source": []
  }
 ],
 "metadata": {
  "kernelspec": {
   "display_name": "Python 3",
   "language": "python",
   "name": "python3"
  },
  "language_info": {
   "codemirror_mode": {
    "name": "ipython",
    "version": 3
   },
   "file_extension": ".py",
   "mimetype": "text/x-python",
   "name": "python",
   "nbconvert_exporter": "python",
   "pygments_lexer": "ipython3",
   "version": "3.6.10"
  }
 },
 "nbformat": 4,
 "nbformat_minor": 4
}
