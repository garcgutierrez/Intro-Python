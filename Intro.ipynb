{
 "cells": [
  {
   "cell_type": "markdown",
   "metadata": {},
   "source": [
    "# Bienvenidos a la introducción a Python"
   ]
  },
  {
   "cell_type": "markdown",
   "metadata": {},
   "source": [
    "### La mayoría de las operaciones son muy intuitivas:"
   ]
  },
  {
   "cell_type": "code",
   "execution_count": 2,
   "metadata": {
    "scrolled": true
   },
   "outputs": [
    {
     "name": "stdout",
     "output_type": "stream",
     "text": [
      "15\n",
      "50\n",
      "25\n",
      "5\n"
     ]
    }
   ],
   "source": [
    "x = 5\n",
    "y = 10 \n",
    "print(x+y)\n",
    "print(x*y)\n",
    "print(x**2)\n",
    "print(x%y)"
   ]
  },
  {
   "cell_type": "code",
   "execution_count": 36,
   "metadata": {
    "scrolled": true
   },
   "outputs": [
    {
     "name": "stdout",
     "output_type": "stream",
     "text": [
      "Esto es una string\n",
      "Esto es una string mas larga\n",
      "Esto\n",
      "Esto es una string mucho mas larga\n"
     ]
    }
   ],
   "source": [
    "var1 = 'Esto es una string'\n",
    "print(var1)\n",
    "var2 = var1+' mas larga'\n",
    "print(var2)\n",
    "print(var1[:4])\n",
    "print(var2.replace('mas', 'mucho mas'))"
   ]
  },
  {
   "cell_type": "code",
   "execution_count": 42,
   "metadata": {},
   "outputs": [
    {
     "name": "stdout",
     "output_type": "stream",
     "text": [
      "23 hola\n",
      "0.5\n",
      "2.0\n"
     ]
    }
   ],
   "source": [
    "lista = [23, 'hola', 24.0]\n",
    "print(lista[0], lista[1])\n",
    "diccionario = {'cl':0.5, 'cd':0.01, 'alpha':0.0}\n",
    "print(diccionario['cl'])\n",
    "tupla = (2.0, 4.0)\n",
    "print(tupla[0])"
   ]
  },
  {
   "cell_type": "code",
   "execution_count": 43,
   "metadata": {
    "scrolled": true
   },
   "outputs": [
    {
     "name": "stdout",
     "output_type": "stream",
     "text": [
      "0\n",
      "1\n",
      "2\n",
      "3\n",
      "4\n",
      "5\n",
      "6\n",
      "7\n",
      "8\n",
      "9\n"
     ]
    }
   ],
   "source": [
    "for i in arange(10):\n",
    "    print(i)"
   ]
  },
  {
   "cell_type": "code",
   "execution_count": 44,
   "metadata": {
    "scrolled": true
   },
   "outputs": [
    {
     "name": "stdout",
     "output_type": "stream",
     "text": [
      "0\n",
      "1\n",
      "2\n",
      "3\n",
      "4\n"
     ]
    }
   ],
   "source": [
    "i=0\n",
    "while(i<5):\n",
    "    print(i)\n",
    "    i+=1"
   ]
  },
  {
   "cell_type": "code",
   "execution_count": 45,
   "metadata": {
    "scrolled": true
   },
   "outputs": [
    {
     "name": "stdout",
     "output_type": "stream",
     "text": [
      "0\n",
      "1\n",
      "2\n",
      "3\n",
      "4\n"
     ]
    },
    {
     "data": {
      "text/plain": [
       "[None, None, None, None, None]"
      ]
     },
     "execution_count": 45,
     "metadata": {},
     "output_type": "execute_result"
    }
   ],
   "source": [
    "[print(i) for i in arange(5)]"
   ]
  },
  {
   "cell_type": "code",
   "execution_count": 47,
   "metadata": {},
   "outputs": [
    {
     "name": "stdout",
     "output_type": "stream",
     "text": [
      "ejemplo de una funcion\n"
     ]
    }
   ],
   "source": [
    "def nuevaFuncion(arg1, arg2):\n",
    "    print(arg1+arg2)\n",
    "\n",
    "nuevaFuncion('ejemplo de una', ' funcion')"
   ]
  },
  {
   "cell_type": "markdown",
   "metadata": {},
   "source": [
    "### Para cargar las librerias científicas se usan expresiones del tipo:"
   ]
  },
  {
   "cell_type": "code",
   "execution_count": 3,
   "metadata": {},
   "outputs": [],
   "source": [
    "from scipy import integrate\n",
    "import numpy as np"
   ]
  },
  {
   "cell_type": "code",
   "execution_count": 4,
   "metadata": {},
   "outputs": [],
   "source": [
    "from pylab import *"
   ]
  },
  {
   "cell_type": "code",
   "execution_count": 5,
   "metadata": {
    "scrolled": false
   },
   "outputs": [
    {
     "name": "stdout",
     "output_type": "stream",
     "text": [
      "Resultado 1: [[0. 0. 0. 0. 0.]\n",
      " [0. 0. 0. 0. 0.]\n",
      " [0. 0. 0. 0. 0.]\n",
      " [0. 0. 0. 0. 0.]\n",
      " [0. 0. 0. 0. 0.]] \n",
      " 2:[[1. 1. 1. 1. 1.]\n",
      " [1. 1. 1. 1. 1.]\n",
      " [1. 1. 1. 1. 1.]\n",
      " [1. 1. 1. 1. 1.]\n",
      " [1. 1. 1. 1. 1.]]  \n",
      " 3:[[1. 0. 0. 0. 0.]\n",
      " [0. 1. 0. 0. 0.]\n",
      " [0. 0. 1. 0. 0.]\n",
      " [0. 0. 0. 1. 0.]\n",
      " [0. 0. 0. 0. 1.]] \n",
      " 4:[[0.24472087 0.08903323 0.44191273 0.90046365 0.4460915 ]\n",
      " [0.82649998 0.59968805 0.3408963  0.82548337 0.73071097]\n",
      " [0.84263592 0.79472459 0.67891117 0.80639193 0.94969696]\n",
      " [0.21266332 0.15320932 0.0625716  0.40192171 0.30154083]\n",
      " [0.39846798 0.8658678  0.09311868 0.49716897 0.92145024]]\n"
     ]
    }
   ],
   "source": [
    "matriz_de_0 = zeros([5,5])\n",
    "matriz_de_1 = ones([5,5])\n",
    "matriz_identidad = eye(5)\n",
    "matriz_random = random([5,5])\n",
    "print('Resultado 1: {} \\n 2:{}  \\n 3:{} \\n 4:{}'.format(matriz_de_0, matriz_de_1, matriz_identidad, matriz_random))"
   ]
  },
  {
   "cell_type": "code",
   "execution_count": 53,
   "metadata": {},
   "outputs": [
    {
     "name": "stdout",
     "output_type": "stream",
     "text": [
      "[0.08903323 0.59968805 0.79472459 0.15320932 0.8658678 ]\n",
      "[0.84263592 0.79472459 0.67891117 0.80639193 0.94969696]\n"
     ]
    }
   ],
   "source": [
    "columna = matriz_random[:,1]\n",
    "print(columna)\n",
    "fila = matriz_random[2,:]\n",
    "print(fila)"
   ]
  },
  {
   "cell_type": "code",
   "execution_count": 31,
   "metadata": {},
   "outputs": [
    {
     "name": "stdout",
     "output_type": "stream",
     "text": [
      "shape a: (5,)   shape matriz_de_1: (5, 5)\n",
      "[[0. 1. 2. 3. 4.]\n",
      " [0. 1. 2. 3. 4.]\n",
      " [0. 1. 2. 3. 4.]\n",
      " [0. 1. 2. 3. 4.]\n",
      " [0. 1. 2. 3. 4.]]\n",
      "Cuidado con las dimensiones:\n",
      "[[0. 0. 0. 0. 0.]\n",
      " [1. 1. 1. 1. 1.]\n",
      " [2. 2. 2. 2. 2.]\n",
      " [3. 3. 3. 3. 3.]\n",
      " [4. 4. 4. 4. 4.]]\n"
     ]
    }
   ],
   "source": [
    "a = arange(5)\n",
    "print('shape a: {}   shape matriz_de_1: {}'.format(shape(a), shape(matriz_de_1)))\n",
    "print(matriz_de_1*a)\n",
    "print('Cuidado con las dimensiones:')\n",
    "print(matriz_de_1*a.reshape([-1,1]))"
   ]
  },
  {
   "cell_type": "code",
   "execution_count": 24,
   "metadata": {},
   "outputs": [
    {
     "name": "stdout",
     "output_type": "stream",
     "text": [
      "Matriz transpuesta: [[0.24472087 0.82649998 0.84263592 0.21266332 0.39846798]\n",
      " [0.08903323 0.59968805 0.79472459 0.15320932 0.8658678 ]\n",
      " [0.44191273 0.3408963  0.67891117 0.0625716  0.09311868]\n",
      " [0.90046365 0.82548337 0.80639193 0.40192171 0.49716897]\n",
      " [0.4460915  0.73071097 0.94969696 0.30154083 0.92145024]]\n",
      "Inversa: [[ -2.85425278  -0.15071218   1.67713093   6.08258739  -2.21773193]\n",
      " [  5.41987882   8.37087128  -6.29648685 -22.29947253   4.52493936]\n",
      " [  1.11682815  -0.86695293   1.54010777  -3.41003103  -0.32458358]\n",
      " [  3.78018629   4.72204381  -4.20878278  -9.58527865   1.89989952]\n",
      " [ -6.0111321  -10.26093183   7.30664052  23.84037546  -3.20001048]]\n",
      "Producto: [[ 1.00000000e+00 -3.70887798e-16 -3.01139528e-16  7.96867358e-16\n",
      "   1.11693199e-16]\n",
      " [ 1.74668452e-16  1.00000000e+00  6.24961976e-16  1.51257655e-15\n",
      "   1.55533035e-15]\n",
      " [ 1.82892664e-16  2.08087099e-16  1.00000000e+00  3.57802284e-16\n",
      "   3.59410355e-16]\n",
      " [ 5.31836473e-16  4.68425400e-16  4.94981952e-16  1.00000000e+00\n",
      "   3.07737465e-16]\n",
      " [-1.20083692e-15 -1.48958287e-15 -4.78340651e-16 -2.84052058e-15\n",
      "   1.00000000e+00]]\n"
     ]
    }
   ],
   "source": [
    "Transpuesta = matriz_random.T\n",
    "print('Matriz transpuesta: {}'.format(Transpuesta))\n",
    "inversa = inv(matriz_random)\n",
    "print('Inversa: {}'.format(inversa))\n",
    "producto = inversa@matriz_random\n",
    "print('Producto: {}'.format(producto))"
   ]
  },
  {
   "cell_type": "code",
   "execution_count": null,
   "metadata": {},
   "outputs": [],
   "source": []
  },
  {
   "cell_type": "code",
   "execution_count": 6,
   "metadata": {},
   "outputs": [],
   "source": [
    "import timeit"
   ]
  },
  {
   "cell_type": "code",
   "execution_count": 7,
   "metadata": {},
   "outputs": [],
   "source": [
    "def norm_vector():\n",
    "    vector = random(5000)\n",
    "    norm = 0\n",
    "    for n in vector:\n",
    "        norm+=n\n",
    "    norm = sqrt(norm)\n",
    "    return(norm)"
   ]
  },
  {
   "cell_type": "code",
   "execution_count": 8,
   "metadata": {},
   "outputs": [
    {
     "data": {
      "text/plain": [
       "1.2680280148735683"
      ]
     },
     "execution_count": 8,
     "metadata": {},
     "output_type": "execute_result"
    }
   ],
   "source": [
    "timeit.timeit(norm_vector, number=1000)"
   ]
  },
  {
   "cell_type": "code",
   "execution_count": 9,
   "metadata": {},
   "outputs": [],
   "source": [
    "def norm_vector_vectorizado():\n",
    "    vector = random(5000)\n",
    "    norm = sqrt(sum(vector**2))\n",
    "    return(norm)"
   ]
  },
  {
   "cell_type": "code",
   "execution_count": 10,
   "metadata": {},
   "outputs": [
    {
     "data": {
      "text/plain": [
       "0.11693628386926114"
      ]
     },
     "execution_count": 10,
     "metadata": {},
     "output_type": "execute_result"
    }
   ],
   "source": [
    "timeit.timeit(norm_vector_vectorizado, number=1000)"
   ]
  },
  {
   "cell_type": "code",
   "execution_count": 11,
   "metadata": {},
   "outputs": [],
   "source": [
    "def norm_vector_func():\n",
    "    vector = random(5000)\n",
    "    normv = norm(vector)\n",
    "    return(normv)"
   ]
  },
  {
   "cell_type": "code",
   "execution_count": 12,
   "metadata": {},
   "outputs": [
    {
     "data": {
      "text/plain": [
       "0.11324178508419203"
      ]
     },
     "execution_count": 12,
     "metadata": {},
     "output_type": "execute_result"
    }
   ],
   "source": [
    "timeit.timeit(norm_vector_func, number=1000)"
   ]
  },
  {
   "cell_type": "code",
   "execution_count": 13,
   "metadata": {},
   "outputs": [
    {
     "name": "stdout",
     "output_type": "stream",
     "text": [
      "integers: [ 0  1  2  3  4  5  6  7  8  9 10 11 12 13 14 15 16 17 18 19 20 21 22 23\n",
      " 24 25 26 27]   \n",
      "  pare: [ 0  2  4  6  8 10 12 14 16 18 20 22 24 26]    \n",
      " múltiplos 4 lista: [0, 4, 8, 12, 16, 20, 24] \n",
      " múltiplos 4 array [ 0  4  8 12 16 20 24]\n"
     ]
    }
   ],
   "source": [
    "integers = arange(28)\n",
    "pares = arange(0,28,2)\n",
    "multiplos_4_lista = [num for num in pares if num%4==0]\n",
    "multiplos_4_array = array([num for num in pares if num%4==0])\n",
    "print('integers: {}   \\n  pare: {}    \\n múltiplos 4 lista: {} \\n múltiplos 4 array {}'.format(integers,\n",
    "                    pares, multiplos_4_lista, multiplos_4_array))"
   ]
  },
  {
   "cell_type": "code",
   "execution_count": 14,
   "metadata": {},
   "outputs": [
    {
     "data": {
      "text/plain": [
       "Text(0, 0.5, 'y-axis')"
      ]
     },
     "execution_count": 14,
     "metadata": {},
     "output_type": "execute_result"
    },
    {
     "data": {
      "image/png": "[encoded data removed]",
      "text/plain": [
       "<Figure size 432x288 with 1 Axes>"
      ]
     },
     "metadata": {
      "needs_background": "light"
     },
     "output_type": "display_data"
    }
   ],
   "source": [
    "t = linspace(0, 2*pi, 100)\n",
    "y = sin(t)**2+cos(t)+exp(1j*t)\n",
    "plot(t,real(y),'-r')\n",
    "plot(t, imag(y), '--*k')\n",
    "xlabel('t')\n",
    "ylabel('y-axis')"
   ]
  },
  {
   "cell_type": "code",
   "execution_count": 15,
   "metadata": {},
   "outputs": [
    {
     "data": {
      "text/plain": [
       "<matplotlib.collections.QuadMesh at 0x16f2d1f91d0>"
      ]
     },
     "execution_count": 15,
     "metadata": {},
     "output_type": "execute_result"
    },
    {
     "data": {
      "image/png": "[encoded data removed]",
      "text/plain": [
       "<Figure size 432x288 with 1 Axes>"
      ]
     },
     "metadata": {
      "needs_background": "light"
     },
     "output_type": "display_data"
    }
   ],
   "source": [
    "x = linspace(-1, 1, 100)\n",
    "y = linspace(-1, 1,100)\n",
    "xx,yy = meshgrid(x, y)\n",
    "zz = xx*exp(yy)+cos(xx)\n",
    "pcolormesh(x,y, zz)"
   ]
  },
  {
   "cell_type": "code",
   "execution_count": 18,
   "metadata": {},
   "outputs": [
    {
     "name": "stdout",
     "output_type": "stream",
     "text": [
      "['-2 GRADOS.csv', '-4 GRADOS.csv', '-6 GRADOS.csv', '0 GRADOS.csv', '10 GRADOS.csv', '12 GRADOS.csv', '14 GRADOS.csv', '16 GRADOS.csv', '2 GRADOS.csv', '4 GRADOS.csv', '6 GRADOS.csv', '8 GRADOS.csv']\n",
      "[[1.0e+00 0.0e+00 1.0e+00]\n",
      " [2.0e+00 2.0e-02 1.0e+00]\n",
      " [3.0e+00 4.0e-02 1.0e+00]\n",
      " [4.0e+00 6.0e-02 1.0e+00]\n",
      " [5.0e+00 8.0e-02 1.0e+00]\n",
      " [6.0e+00 1.6e-01 1.0e+00]\n",
      " [7.0e+00 2.0e-01 1.0e+00]\n",
      " [8.0e+00 2.4e-01 1.0e+00]\n",
      " [9.0e+00 2.8e-01 1.0e+00]\n",
      " [1.0e+01 3.2e-01 1.0e+00]\n",
      " [1.1e+01 3.6e-01 1.0e+00]\n",
      " [1.2e+01 4.4e-01 1.0e+00]\n",
      " [1.3e+01 6.0e-01 1.0e+00]\n",
      " [1.4e+01 7.6e-01 1.0e+00]\n",
      " [1.5e+01 9.2e-01 1.0e+00]\n",
      " [1.6e+01 2.0e-02 2.0e+00]\n",
      " [1.7e+01 4.0e-02 2.0e+00]\n",
      " [1.8e+01 6.0e-02 2.0e+00]\n",
      " [1.9e+01 8.0e-02 2.0e+00]\n",
      " [2.0e+01 1.2e-01 2.0e+00]\n",
      " [2.1e+01 1.6e-01 2.0e+00]\n",
      " [2.2e+01 2.0e-01 2.0e+00]\n",
      " [2.3e+01 2.4e-01 2.0e+00]\n",
      " [2.4e+01 2.8e-01 2.0e+00]\n",
      " [2.5e+01 3.2e-01 2.0e+00]\n",
      " [2.6e+01 3.6e-01 2.0e+00]\n",
      " [2.7e+01 5.2e-01 2.0e+00]\n",
      " [2.8e+01 6.8e-01 2.0e+00]\n",
      " [2.9e+01 8.4e-01 2.0e+00]\n",
      " [3.0e+01 9.2e-01 2.0e+00]]\n"
     ]
    }
   ],
   "source": [
    "import glob as gl\n",
    "archivos = gl.glob('*DOS.csv')\n",
    "print(archivos)\n",
    "grados = arange(-2, 16, 2)\n",
    "tomas = genfromtxt('tomas.csv', delimiter=';')\n",
    "print(tomas)"
   ]
  },
  {
   "cell_type": "code",
   "execution_count": null,
   "metadata": {},
   "outputs": [],
   "source": [
    "def calcYCoord(x, positions, XX):\n",
    "    signo = array([1 if pos==1 else -1 for pos in positions])\n",
    "    yt = signo*5*XX*(0.2969*sqrt(x)-0.126*x-0.3516*x**2+0.2843*x**3-0.1015*x**4)\n",
    "    return(yt)"
   ]
  },
  {
   "cell_type": "markdown",
   "metadata": {},
   "source": []
  },
  {
   "cell_type": "code",
   "execution_count": null,
   "metadata": {},
   "outputs": [],
   "source": [
    "def calcVel(pressure):\n",
    "    p0 = pressure[:, -1].reshape([-1,1])\n",
    "    pinf = pressure[:, -2].reshape([-1,1])\n",
    "    vel = sqrt((p0-pinf)/(0.5*rho))\n",
    "    return(vel)"
   ]
  },
  {
   "cell_type": "code",
   "execution_count": null,
   "metadata": {},
   "outputs": [],
   "source": []
  },
  {
   "cell_type": "code",
   "execution_count": null,
   "metadata": {},
   "outputs": [],
   "source": [
    "def calcCp(pressure):\n",
    "    pi = pressure[:, :-2]\n",
    "    p0 = pressure[:, -1].reshape([-1,1])\n",
    "    pinf = pressure[:, -2].reshape([-1,1])\n",
    "    cp = 1 - (p0 - pi)/(p0 - pinf)\n",
    "    return(cp)"
   ]
  },
  {
   "cell_type": "code",
   "execution_count": null,
   "metadata": {},
   "outputs": [],
   "source": []
  },
  {
   "cell_type": "code",
   "execution_count": null,
   "metadata": {},
   "outputs": [],
   "source": [
    "def convertToDouble(arr):\n",
    "    new_array = zeros(shape(arr))\n",
    "    for i in arange(shape(arr)[0]):\n",
    "        for j in arange(shape(arr)[1]):\n",
    "            new_array[i,j] = float(arr[i,j].replace(' ',''))\n",
    "    return(new_array)"
   ]
  },
  {
   "cell_type": "code",
   "execution_count": null,
   "metadata": {},
   "outputs": [],
   "source": [
    "def calcDx(x):\n",
    "    dx = 0.5*(x[2:]-x[0:-2])\n",
    "    dx1 = (x[1] - x[0])\n",
    "    dx2 = (x[-1] - x[-2])/2 + (x[0] - x[-1])/2\n",
    "    return(r_[dx1,dx,dx2])\n",
    "def calcDy(y):\n",
    "    dy = 0.5*(y[2:] - y[0:-2])\n",
    "    dy1 = (y[1] - y[0])/2 + (y[0] - y[-1])/2\n",
    "    dy2 = (y[-1] - y[-2])/2 + (y[0] - y[-1])/2\n",
    "    return(r_[dy1,dy,dy2])"
   ]
  },
  {
   "cell_type": "code",
   "execution_count": null,
   "metadata": {},
   "outputs": [],
   "source": [
    "def calcCn(cp, dx):\n",
    "    cn = -sum(cp*dx, axis = -1)\n",
    "    return(cn)\n",
    "  \n",
    "def calcCa(cp, dy):\n",
    "    ca = sum(cp*dy, axis = -1)\n",
    "    return(ca)"
   ]
  },
  {
   "cell_type": "code",
   "execution_count": null,
   "metadata": {},
   "outputs": [],
   "source": []
  },
  {
   "cell_type": "code",
   "execution_count": null,
   "metadata": {},
   "outputs": [],
   "source": []
  },
  {
   "cell_type": "code",
   "execution_count": null,
   "metadata": {},
   "outputs": [],
   "source": []
  },
  {
   "cell_type": "code",
   "execution_count": null,
   "metadata": {},
   "outputs": [],
   "source": []
  }
 ],
 "metadata": {
  "kernelspec": {
   "display_name": "Python 3",
   "language": "python",
   "name": "python3"
  },
  "language_info": {
   "codemirror_mode": {
    "name": "ipython",
    "version": 3
   },
   "file_extension": ".py",
   "mimetype": "text/x-python",
   "name": "python",
   "nbconvert_exporter": "python",
   "pygments_lexer": "ipython3",
   "version": "3.6.10"
  }
 },
 "nbformat": 4,
 "nbformat_minor": 4
}
