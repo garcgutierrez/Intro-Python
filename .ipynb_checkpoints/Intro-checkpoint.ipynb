{
 "cells": [
  {
   "cell_type": "markdown",
   "metadata": {},
   "source": [
    "# Bienvenidos a \"una breve introducción a Python\""
   ]
  },
  {
   "cell_type": "markdown",
   "metadata": {},
   "source": [
    "### La mayoría de las operaciones son muy intuitivas (parecido a como hacíais en C):"
   ]
  },
  {
   "cell_type": "code",
   "execution_count": 15,
   "metadata": {
    "scrolled": true
   },
   "outputs": [
    {
     "name": "stdout",
     "output_type": "stream",
     "text": [
      "15\n",
      "50\n",
      "25\n",
      "5\n"
     ]
    }
   ],
   "source": [
    "x = 5 # En python, al declarar las variables, no se definen los tipos\n",
    "y = 10 # da igual que sea un int, float, string, etc.\n",
    "print(x+y) #suma\n",
    "print(x*y) # multiplicación\n",
    "print(x**2) # OJO! El cálculo de las potencias es distinto que en C o Matlab\n",
    "print(x%y) # Operación modulo"
   ]
  },
  {
   "cell_type": "markdown",
   "metadata": {},
   "source": [
    "### Para cargar las librerias científicas se usan expresiones del tipo:"
   ]
  },
  {
   "cell_type": "code",
   "execution_count": 5,
   "metadata": {},
   "outputs": [],
   "source": [
    "from scipy import integrate\n",
    "import numpy as np"
   ]
  },
  {
   "cell_type": "markdown",
   "metadata": {},
   "source": [
    "#### En general, pylab nos permitirá trabajar en Python de manera similar a como se haría en Matlab"
   ]
  },
  {
   "cell_type": "code",
   "execution_count": 7,
   "metadata": {},
   "outputs": [],
   "source": [
    "from pylab import *"
   ]
  },
  {
   "cell_type": "markdown",
   "metadata": {},
   "source": [
    "### Trabajar con strings en Python es muy sencillo"
   ]
  },
  {
   "cell_type": "code",
   "execution_count": 1,
   "metadata": {
    "scrolled": true
   },
   "outputs": [
    {
     "name": "stdout",
     "output_type": "stream",
     "text": [
      "Esto es una string\n",
      "Esto es una string mas larga\n",
      "Esto\n",
      "Esto es una string mucho más, pero que mucho más, larga\n"
     ]
    }
   ],
   "source": [
    "var1 = 'Esto es una string'\n",
    "print(var1)\n",
    "var2 = var1+' mas larga'\n",
    "print(var2)\n",
    "print(var1[:4])\n",
    "print(var2.replace('mas', 'mucho más, pero que mucho más,'))"
   ]
  },
  {
   "cell_type": "markdown",
   "metadata": {},
   "source": [
    "### En python, los datos se suelen agrupar en listas, diccionarios o tuplas"
   ]
  },
  {
   "cell_type": "code",
   "execution_count": 3,
   "metadata": {},
   "outputs": [
    {
     "name": "stdout",
     "output_type": "stream",
     "text": [
      "23 hola\n",
      "0.5\n",
      "2.0\n"
     ]
    },
    {
     "ename": "TypeError",
     "evalue": "'tuple' object does not support item assignment",
     "output_type": "error",
     "traceback": [
      "\u001b[1;31m---------------------------------------------------------------------------\u001b[0m",
      "\u001b[1;31mTypeError\u001b[0m                                 Traceback (most recent call last)",
      "\u001b[1;32m<ipython-input-3-858a41ecaa8a>\u001b[0m in \u001b[0;36m<module>\u001b[1;34m\u001b[0m\n\u001b[0;32m      5\u001b[0m \u001b[0mtupla\u001b[0m \u001b[1;33m=\u001b[0m \u001b[1;33m(\u001b[0m\u001b[1;36m2.0\u001b[0m\u001b[1;33m,\u001b[0m \u001b[1;36m4.0\u001b[0m\u001b[1;33m)\u001b[0m \u001b[1;31m# las tuplas son permanentes, no podemos modificar un elemento de la misma\u001b[0m\u001b[1;33m\u001b[0m\u001b[1;33m\u001b[0m\u001b[0m\n\u001b[0;32m      6\u001b[0m \u001b[0mprint\u001b[0m\u001b[1;33m(\u001b[0m\u001b[0mtupla\u001b[0m\u001b[1;33m[\u001b[0m\u001b[1;36m0\u001b[0m\u001b[1;33m]\u001b[0m\u001b[1;33m)\u001b[0m\u001b[1;33m\u001b[0m\u001b[1;33m\u001b[0m\u001b[0m\n\u001b[1;32m----> 7\u001b[1;33m \u001b[0mtupla\u001b[0m\u001b[1;33m[\u001b[0m\u001b[1;36m0\u001b[0m\u001b[1;33m]\u001b[0m\u001b[1;33m=\u001b[0m\u001b[1;36m1\u001b[0m \u001b[1;31m# Esto nos da error\u001b[0m\u001b[1;33m\u001b[0m\u001b[1;33m\u001b[0m\u001b[0m\n\u001b[0m",
      "\u001b[1;31mTypeError\u001b[0m: 'tuple' object does not support item assignment"
     ]
    }
   ],
   "source": [
    "lista = [23, 'hola', 24.0] # una lista puede contener cualquier tipo de variables, incluso listas\n",
    "print(lista[0], lista[1])\n",
    "diccionario = {'cl':0.5, 'cd':0.01, 'alpha':0.0} # en los diccionarios cada variable esta relaccionado con una entrada\n",
    "print(diccionario['cl'])\n",
    "tupla = (2.0, 4.0) # las tuplas son permanentes, no podemos modificar un elemento de la misma\n",
    "print(tupla[0])\n",
    "tupla[0]=1 # Esto nos da error"
   ]
  },
  {
   "cell_type": "markdown",
   "metadata": {},
   "source": [
    "### Los bucles 'for' son ligeramente distintos. Se trata de definir una lista, y la variable \"i\" (o la que sea), recorrera cada uno de los valores en esa lista"
   ]
  },
  {
   "cell_type": "code",
   "execution_count": 20,
   "metadata": {
    "scrolled": true
   },
   "outputs": [
    {
     "name": "stdout",
     "output_type": "stream",
     "text": [
      "0\n",
      "1\n",
      "2\n",
      "3\n",
      "4\n",
      "5\n",
      "6\n",
      "7\n",
      "8\n",
      "9\n"
     ]
    }
   ],
   "source": [
    "for i in arange(10):\n",
    "    print(i)"
   ]
  },
  {
   "cell_type": "markdown",
   "metadata": {},
   "source": [
    "### Los buble 'while' son más parecidos a C:"
   ]
  },
  {
   "cell_type": "code",
   "execution_count": 21,
   "metadata": {
    "scrolled": true
   },
   "outputs": [
    {
     "name": "stdout",
     "output_type": "stream",
     "text": [
      "0\n",
      "1\n",
      "2\n",
      "3\n",
      "4\n"
     ]
    }
   ],
   "source": [
    "i=0\n",
    "while(i<5):\n",
    "    print(i)\n",
    "    i+=1"
   ]
  },
  {
   "cell_type": "markdown",
   "metadata": {},
   "source": [
    "### En python son especialmente útil las 'List Comprehensions'"
   ]
  },
  {
   "cell_type": "code",
   "execution_count": 9,
   "metadata": {
    "scrolled": true
   },
   "outputs": [
    {
     "name": "stdout",
     "output_type": "stream",
     "text": [
      "0\n",
      "1\n",
      "2\n",
      "3\n",
      "4\n",
      "[0, 1, 4, 9, 16]\n"
     ]
    }
   ],
   "source": [
    "[print(i) for i in arange(5)]\n",
    "cuadrados = [i**2 for i in arange(5)]\n",
    "print(cuadrados)"
   ]
  },
  {
   "cell_type": "markdown",
   "metadata": {},
   "source": [
    "### A la hora de definir una función tampoco hay que especificar el tipo de los argumentos o qué devuelve la función:"
   ]
  },
  {
   "cell_type": "code",
   "execution_count": 23,
   "metadata": {},
   "outputs": [
    {
     "name": "stdout",
     "output_type": "stream",
     "text": [
      "ejemplo de una funcion\n"
     ]
    }
   ],
   "source": [
    "def nuevaFuncion(arg1, arg2):\n",
    "    print(arg1+arg2)\n",
    "\n",
    "nuevaFuncion('ejemplo de una', ' funcion')"
   ]
  },
  {
   "cell_type": "markdown",
   "metadata": {},
   "source": [
    "### Especialmente preparados para trabajar con matrices:"
   ]
  },
  {
   "cell_type": "code",
   "execution_count": 11,
   "metadata": {
    "scrolled": false
   },
   "outputs": [
    {
     "name": "stdout",
     "output_type": "stream",
     "text": [
      "Resultado 1: [[0. 0. 0. 0. 0.]\n",
      " [0. 0. 0. 0. 0.]\n",
      " [0. 0. 0. 0. 0.]\n",
      " [0. 0. 0. 0. 0.]\n",
      " [0. 0. 0. 0. 0.]] \n",
      " 2:[[1. 1. 1. 1. 1.]\n",
      " [1. 1. 1. 1. 1.]\n",
      " [1. 1. 1. 1. 1.]\n",
      " [1. 1. 1. 1. 1.]\n",
      " [1. 1. 1. 1. 1.]]  \n",
      " 3:[[1. 0. 0. 0. 0.]\n",
      " [0. 1. 0. 0. 0.]\n",
      " [0. 0. 1. 0. 0.]\n",
      " [0. 0. 0. 1. 0.]\n",
      " [0. 0. 0. 0. 1.]] \n",
      " 4:[[0.42194411 0.1997733  0.63009896 0.2902802  0.82148597]\n",
      " [0.6223569  0.06174619 0.47511725 0.09339183 0.74867407]\n",
      " [0.04726461 0.3294804  0.48159201 0.91842704 0.56818418]\n",
      " [0.7150151  0.27637924 0.57070254 0.00393302 0.43547308]\n",
      " [0.13671318 0.21502932 0.56051419 0.18466007 0.97783112]]\n"
     ]
    }
   ],
   "source": [
    "matriz_de_0 = zeros([5,5])\n",
    "matriz_de_1 = ones([5,5])\n",
    "matriz_identidad = eye(5) # Matriz identidad\n",
    "matriz_random = random([5,5]) # Matriz con números aleatorios\n",
    "print('Resultado 1: {} \\n 2:{}  \\n 3:{} \\n 4:{}'.format(matriz_de_0, matriz_de_1, matriz_identidad, matriz_random))"
   ]
  },
  {
   "cell_type": "markdown",
   "metadata": {},
   "source": [
    "### Para acceder a los datos de las matrices:"
   ]
  },
  {
   "cell_type": "code",
   "execution_count": 16,
   "metadata": {},
   "outputs": [
    {
     "name": "stdout",
     "output_type": "stream",
     "text": [
      "[0.1997733  0.06174619 0.3294804  0.27637924 0.21502932]\n",
      "[0.04726461 0.3294804  0.48159201 0.91842704 0.56818418]\n",
      "[0.1997733  0.3294804  0.21502932]\n",
      "[0.21502932 0.27637924 0.3294804  0.06174619 0.1997733 ]\n",
      "submatrix: [[0.97783112 0.18466007 0.56051419 0.21502932 0.13671318]\n",
      " [0.56818418 0.91842704 0.48159201 0.3294804  0.04726461]\n",
      " [0.82148597 0.2902802  0.63009896 0.1997733  0.42194411]]\n"
     ]
    }
   ],
   "source": [
    "columna = matriz_random[:,1]\n",
    "print(columna)\n",
    "fila = matriz_random[2,:]\n",
    "print(fila)\n",
    "print(columna[::2])\n",
    "print(columna[::-1])\n",
    "print('submatrix:',matriz_random[::-2,::-1])"
   ]
  },
  {
   "cell_type": "markdown",
   "metadata": {},
   "source": [
    "### Es util conocer las dimensiones de las matrices. La multiplicación se realiza elemento a elemento."
   ]
  },
  {
   "cell_type": "code",
   "execution_count": 17,
   "metadata": {},
   "outputs": [
    {
     "name": "stdout",
     "output_type": "stream",
     "text": [
      "shape a: (5,)   shape matriz_de_1: (5, 5)\n",
      "[[0. 1. 2. 3. 4.]\n",
      " [0. 1. 2. 3. 4.]\n",
      " [0. 1. 2. 3. 4.]\n",
      " [0. 1. 2. 3. 4.]\n",
      " [0. 1. 2. 3. 4.]]\n",
      "Cuidado con las dimensiones:\n",
      "[[0. 0. 0. 0. 0.]\n",
      " [1. 1. 1. 1. 1.]\n",
      " [2. 2. 2. 2. 2.]\n",
      " [3. 3. 3. 3. 3.]\n",
      " [4. 4. 4. 4. 4.]]\n"
     ]
    }
   ],
   "source": [
    "a = arange(5)\n",
    "print('shape a: {}   shape matriz_de_1: {}'.format(shape(a), shape(matriz_de_1)))\n",
    "print(matriz_de_1*a)\n",
    "print('Cuidado con las dimensiones:')\n",
    "print(matriz_de_1*a.reshape([-1,1]))"
   ]
  },
  {
   "cell_type": "markdown",
   "metadata": {},
   "source": [
    "### Las tipicas operaciones con matrices son sencillas:"
   ]
  },
  {
   "cell_type": "code",
   "execution_count": 27,
   "metadata": {},
   "outputs": [
    {
     "name": "stdout",
     "output_type": "stream",
     "text": [
      "Matriz transpuesta: [[0.03939855 0.88800731 0.35172005 0.86907532 0.61178674]\n",
      " [0.47903978 0.0253287  0.23208541 0.61545541 0.1803671 ]\n",
      " [0.34728509 0.46534819 0.61814437 0.30377858 0.91430728]\n",
      " [0.68253837 0.47011502 0.28850609 0.67419788 0.27616779]\n",
      " [0.59025176 0.58093813 0.78941665 0.3213739  0.61998295]]\n",
      "Inversa: [[-1.18058016  0.45421631  0.55081319  0.81757835 -0.42678836]\n",
      " [-0.91766093 -2.22253485  1.90028366  1.83553108 -0.41485193]\n",
      " [ 0.64947506 -0.54316669 -1.90135193 -0.52307957  2.58274109]\n",
      " [ 2.33713195  1.53837569 -3.04952341 -0.93842511  0.70281376]\n",
      " [-0.56692079  0.31413781  3.06600563 -0.15135054 -1.96712574]]\n",
      "Producto: [[ 1.00000000e+00 -1.77971301e-16 -1.24089729e-16 -1.41189951e-16\n",
      "  -1.27575707e-16]\n",
      " [ 1.08305155e-16  1.00000000e+00 -7.20353266e-18  1.44684477e-16\n",
      "  -1.08232867e-16]\n",
      " [-1.37550950e-16  2.71468573e-17  1.00000000e+00 -5.31036796e-17\n",
      "   3.01293876e-17]\n",
      " [ 2.53071526e-16  2.23136252e-16  6.52141414e-16  1.00000000e+00\n",
      "   3.28482748e-17]\n",
      " [ 1.64823337e-16 -7.73899551e-17 -1.40349996e-16  1.43813817e-16\n",
      "   1.00000000e+00]]\n"
     ]
    }
   ],
   "source": [
    "Transpuesta = matriz_random.T\n",
    "print('Matriz transpuesta: {}'.format(Transpuesta))\n",
    "inversa = inv(matriz_random)\n",
    "print('Inversa: {}'.format(inversa))\n",
    "producto = inversa@matriz_random\n",
    "print('Producto: {}'.format(producto))"
   ]
  },
  {
   "cell_type": "markdown",
   "metadata": {},
   "source": [
    "### Python es un lenguaje interpretado $\\implies$ hay que vectorizar todo lo que se pueda"
   ]
  },
  {
   "cell_type": "code",
   "execution_count": 19,
   "metadata": {},
   "outputs": [],
   "source": [
    "import timeit"
   ]
  },
  {
   "cell_type": "markdown",
   "metadata": {},
   "source": [
    "### Por ej, así se calcularía la norma de un vector en C:"
   ]
  },
  {
   "cell_type": "code",
   "execution_count": 20,
   "metadata": {},
   "outputs": [],
   "source": [
    "def norm_vector():\n",
    "    vector = random(5000)\n",
    "    norm = 0\n",
    "    for n in vector:\n",
    "        norm+=n\n",
    "    norm = sqrt(norm)\n",
    "    return(norm)"
   ]
  },
  {
   "cell_type": "code",
   "execution_count": 21,
   "metadata": {},
   "outputs": [
    {
     "data": {
      "text/plain": [
       "1.281068200387839"
      ]
     },
     "execution_count": 21,
     "metadata": {},
     "output_type": "execute_result"
    }
   ],
   "source": [
    "timeit.timeit(norm_vector, number=1000)"
   ]
  },
  {
   "cell_type": "markdown",
   "metadata": {},
   "source": [
    "### Sin embargo, en Python, hay que evitar, siempre que se pueda, los bucles for:"
   ]
  },
  {
   "cell_type": "code",
   "execution_count": 22,
   "metadata": {},
   "outputs": [],
   "source": [
    "def norm_vector_vectorizado():\n",
    "    vector = random(5000)\n",
    "    norm = sqrt(sum(vector**2))\n",
    "    return(norm)"
   ]
  },
  {
   "cell_type": "code",
   "execution_count": 23,
   "metadata": {},
   "outputs": [
    {
     "data": {
      "text/plain": [
       "0.09047575365172555"
      ]
     },
     "execution_count": 23,
     "metadata": {},
     "output_type": "execute_result"
    }
   ],
   "source": [
    "timeit.timeit(norm_vector_vectorizado, number=1000)"
   ]
  },
  {
   "cell_type": "markdown",
   "metadata": {},
   "source": [
    "### Y también es recomendable conocer las funciones que nos sirven para hacer esa tarea:"
   ]
  },
  {
   "cell_type": "code",
   "execution_count": 24,
   "metadata": {},
   "outputs": [],
   "source": [
    "def norm_vector_func():\n",
    "    vector = random(5000)\n",
    "    normv = norm(vector)\n",
    "    return(normv)"
   ]
  },
  {
   "cell_type": "code",
   "execution_count": 25,
   "metadata": {},
   "outputs": [
    {
     "data": {
      "text/plain": [
       "0.21553575352372611"
      ]
     },
     "execution_count": 25,
     "metadata": {},
     "output_type": "execute_result"
    }
   ],
   "source": [
    "timeit.timeit(norm_vector_func, number=1000)"
   ]
  },
  {
   "cell_type": "markdown",
   "metadata": {},
   "source": [
    "### Aprovechar al máximo la vectorización"
   ]
  },
  {
   "cell_type": "code",
   "execution_count": 27,
   "metadata": {},
   "outputs": [
    {
     "name": "stdout",
     "output_type": "stream",
     "text": [
      "integers: [ 0  1  2  3  4  5  6  7  8  9 10 11 12 13 14 15 16 17 18 19 20 21 22 23\n",
      " 24 25 26 27]   \n",
      "  pares: [ 0  2  4  6  8 10 12 14 16 18 20 22 24 26]    \n",
      " múltiplos 4 lista: [0, 4, 8, 12, 16, 20, 24] \n",
      " múltiplos 4 array [ 0  4  8 12 16 20 24]\n"
     ]
    }
   ],
   "source": [
    "integers = arange(28)\n",
    "pares = arange(0,28,2)\n",
    "multiplos_4_lista = [num for num in pares if num%4==0]\n",
    "multiplos_4_array = array([num for num in pares if num%4==0])\n",
    "print('integers: {}   \\n  pares: {}    \\n múltiplos 4 lista: {} \\n múltiplos 4 array {}'.format(integers,\n",
    "                    pares, multiplos_4_lista, multiplos_4_array))"
   ]
  },
  {
   "cell_type": "markdown",
   "metadata": {},
   "source": [
    "### Para visualizar los datos:"
   ]
  },
  {
   "cell_type": "code",
   "execution_count": 32,
   "metadata": {},
   "outputs": [
    {
     "data": {
      "text/plain": [
       "Text(0, 0.5, 'y-axis')"
      ]
     },
     "execution_count": 32,
     "metadata": {},
     "output_type": "execute_result"
    },
    {
     "data": {
      "image/png": "[encoded data removed]",
      "text/plain": [
       "<Figure size 432x288 with 1 Axes>"
      ]
     },
     "metadata": {
      "needs_background": "light"
     },
     "output_type": "display_data"
    }
   ],
   "source": [
    "t = linspace(0, 2*pi, 100)\n",
    "y = sin(t)**2+cos(t)+exp(1j*t)\n",
    "plot(t,real(y),'-r',label='real') # buscar los distintos colores y markers disponibles en matplotlib\n",
    "plot(t, imag(y), '--*k', label='imag')\n",
    "xlabel('t')\n",
    "title('Este es un gráfico sin sentido')\n",
    "legend()\n",
    "ylabel('y-axis')"
   ]
  },
  {
   "cell_type": "markdown",
   "metadata": {},
   "source": [
    "### Támbien podemos usar gráficos más complejos:"
   ]
  },
  {
   "cell_type": "code",
   "execution_count": 28,
   "metadata": {
    "scrolled": true
   },
   "outputs": [
    {
     "data": {
      "text/plain": [
       "<matplotlib.colorbar.Colorbar at 0x1994d2329e8>"
      ]
     },
     "execution_count": 28,
     "metadata": {},
     "output_type": "execute_result"
    },
    {
     "data": {
      "image/png": "[encoded data removed]",
      "text/plain": [
       "<Figure size 432x288 with 2 Axes>"
      ]
     },
     "metadata": {
      "needs_background": "light"
     },
     "output_type": "display_data"
    }
   ],
   "source": [
    "x = linspace(-1, 1, 100)\n",
    "y = linspace(-1, 1,100)\n",
    "xx,yy = meshgrid(x, y)\n",
    "zz = xx*exp(yy)+cos(xx)\n",
    "pcolormesh(x,y, zz)\n",
    "colorbar()"
   ]
  },
  {
   "cell_type": "markdown",
   "metadata": {},
   "source": [
    "### Vamos a trabajar un poco con los distintos archivos de la práctica.\n",
    "Para ver que archivos tenemos en nuestro directorio, usamos la libreria glob"
   ]
  },
  {
   "cell_type": "code",
   "execution_count": 30,
   "metadata": {},
   "outputs": [
    {
     "name": "stdout",
     "output_type": "stream",
     "text": [
      "['-2 GRADOS.csv', '-4 GRADOS.csv', '-6 GRADOS.csv', '0 GRADOS.csv', '10 GRADOS.csv', '12 GRADOS.csv', '14 GRADOS.csv', '16 GRADOS.csv', '2 GRADOS.csv', '4 GRADOS.csv', '6 GRADOS.csv', '8 GRADOS.csv']\n",
      "[[1.0e+00 0.0e+00 1.0e+00]\n",
      " [2.0e+00 2.0e-02 1.0e+00]\n",
      " [3.0e+00 4.0e-02 1.0e+00]\n",
      " [4.0e+00 6.0e-02 1.0e+00]\n",
      " [5.0e+00 8.0e-02 1.0e+00]\n",
      " [6.0e+00 1.6e-01 1.0e+00]\n",
      " [7.0e+00 2.0e-01 1.0e+00]\n",
      " [8.0e+00 2.4e-01 1.0e+00]\n",
      " [9.0e+00 2.8e-01 1.0e+00]\n",
      " [1.0e+01 3.2e-01 1.0e+00]\n",
      " [1.1e+01 3.6e-01 1.0e+00]\n",
      " [1.2e+01 4.4e-01 1.0e+00]\n",
      " [1.3e+01 6.0e-01 1.0e+00]\n",
      " [1.4e+01 7.6e-01 1.0e+00]\n",
      " [1.5e+01 9.2e-01 1.0e+00]\n",
      " [1.6e+01 2.0e-02 2.0e+00]\n",
      " [1.7e+01 4.0e-02 2.0e+00]\n",
      " [1.8e+01 6.0e-02 2.0e+00]\n",
      " [1.9e+01 8.0e-02 2.0e+00]\n",
      " [2.0e+01 1.2e-01 2.0e+00]\n",
      " [2.1e+01 1.6e-01 2.0e+00]\n",
      " [2.2e+01 2.0e-01 2.0e+00]\n",
      " [2.3e+01 2.4e-01 2.0e+00]\n",
      " [2.4e+01 2.8e-01 2.0e+00]\n",
      " [2.5e+01 3.2e-01 2.0e+00]\n",
      " [2.6e+01 3.6e-01 2.0e+00]\n",
      " [2.7e+01 5.2e-01 2.0e+00]\n",
      " [2.8e+01 6.8e-01 2.0e+00]\n",
      " [2.9e+01 8.4e-01 2.0e+00]\n",
      " [3.0e+01 9.2e-01 2.0e+00]]\n"
     ]
    }
   ],
   "source": [
    "import glob as gl\n",
    "archivos = gl.glob('*DOS.csv') # Nos va a buscar todos los archivos que acaban en 'DOS.csv'\n",
    "print(archivos)\n",
    "grados = arange(-2, 16, 2) # Definimos un vector con los grados de ataque\n",
    "tomas = genfromtxt('tomas.csv', delimiter=';') #Tambien cargamos el archivo que utilizamos para determinar donde estan las tomas\n",
    "print(tomas)"
   ]
  },
  {
   "cell_type": "markdown",
   "metadata": {},
   "source": [
    "### Definimos la función que nos permite calcular la forma del perfil naca"
   ]
  },
  {
   "cell_type": "code",
   "execution_count": 40,
   "metadata": {},
   "outputs": [],
   "source": [
    "def calcYCoord(x, positions, XX):\n",
    "    signo = array([1 if pos==1 else -1 for pos in positions]) # Determinamos si es extradós o intradós\n",
    "    yt = signo*5*XX*(0.2969*sqrt(x)-0.126*x-0.3516*x**2+0.2843*x**3-0.1015*x**4)\n",
    "    return(yt)"
   ]
  },
  {
   "cell_type": "markdown",
   "metadata": {},
   "source": [
    "### Definimos la función que nos calcula la velocidad a partir de las medidas del tubo pitot"
   ]
  },
  {
   "cell_type": "code",
   "execution_count": 41,
   "metadata": {},
   "outputs": [],
   "source": [
    "def calcVel(pressure):\n",
    "    p0 = pressure[:, -1].reshape([-1,1])\n",
    "    pinf = pressure[:, -2].reshape([-1,1])\n",
    "    vel = sqrt((p0-pinf)/(0.5*rho))\n",
    "    return(vel)"
   ]
  },
  {
   "cell_type": "markdown",
   "metadata": {},
   "source": [
    "### Definimos la función que nos calcula los $c_p = 1-\\frac{p_0-p_i}{p_0-p_\\infty}$ a partir de las medidas del tubo pitot"
   ]
  },
  {
   "cell_type": "code",
   "execution_count": 42,
   "metadata": {},
   "outputs": [],
   "source": [
    "def calcCp(pressure):\n",
    "    pi = pressure[:, :-2]\n",
    "    p0 = pressure[:, -1].reshape([-1,1])\n",
    "    pinf = pressure[:, -2].reshape([-1,1])\n",
    "    cp = 1 - (p0 - pi)/(p0 - pinf)\n",
    "    return(cp)"
   ]
  },
  {
   "cell_type": "code",
   "execution_count": null,
   "metadata": {},
   "outputs": [],
   "source": []
  },
  {
   "cell_type": "code",
   "execution_count": 43,
   "metadata": {},
   "outputs": [],
   "source": [
    "def convertToDouble(arr):\n",
    "    new_array = zeros(shape(arr))\n",
    "    for i in arange(shape(arr)[0]):\n",
    "        for j in arange(shape(arr)[1]):\n",
    "            new_array[i,j] = float(arr[i,j].replace(' ',''))\n",
    "    return(new_array)"
   ]
  },
  {
   "cell_type": "markdown",
   "metadata": {},
   "source": [
    "### Calculamos los diferenciales $dx$ y $dy$ para cada punto. El primer punto y el final tienen una fórmula especial."
   ]
  },
  {
   "cell_type": "code",
   "execution_count": 44,
   "metadata": {},
   "outputs": [],
   "source": [
    "def calcDx(x):\n",
    "    dx = 0.5*(x[2:]-x[0:-2])\n",
    "    dx1 = (x[1] - x[0])\n",
    "    dx2 = (x[-1] - x[-2])/2 + (x[0] - x[-1])/2\n",
    "    return(r_[dx1,dx,dx2])\n",
    "def calcDy(y):\n",
    "    dy = 0.5*(y[2:] - y[0:-2])\n",
    "    dy1 = (y[1] - y[0])/2 + (y[0] - y[-1])/2\n",
    "    dy2 = (y[-1] - y[-2])/2 + (y[0] - y[-1])/2\n",
    "    return(r_[dy1,dy,dy2])"
   ]
  },
  {
   "cell_type": "markdown",
   "metadata": {},
   "source": [
    "### Los coeficientes $c_a$ y $c_n$ quedan de la siguiente manera:"
   ]
  },
  {
   "cell_type": "code",
   "execution_count": 45,
   "metadata": {},
   "outputs": [],
   "source": [
    "def calcCn(cp, dx):\n",
    "    cn = -sum(cp*dx, axis = -1)\n",
    "    return(cn)\n",
    "  \n",
    "def calcCa(cp, dy):\n",
    "    ca = sum(cp*dy, axis = -1)\n",
    "    return(ca)"
   ]
  },
  {
   "cell_type": "code",
   "execution_count": null,
   "metadata": {},
   "outputs": [],
   "source": []
  },
  {
   "cell_type": "code",
   "execution_count": null,
   "metadata": {},
   "outputs": [],
   "source": []
  },
  {
   "cell_type": "code",
   "execution_count": null,
   "metadata": {},
   "outputs": [],
   "source": []
  },
  {
   "cell_type": "code",
   "execution_count": null,
   "metadata": {},
   "outputs": [],
   "source": []
  }
 ],
 "metadata": {
  "kernelspec": {
   "display_name": "Python 3",
   "language": "python",
   "name": "python3"
  },
  "language_info": {
   "codemirror_mode": {
    "name": "ipython",
    "version": 3
   },
   "file_extension": ".py",
   "mimetype": "text/x-python",
   "name": "python",
   "nbconvert_exporter": "python",
   "pygments_lexer": "ipython3",
   "version": "3.6.10"
  }
 },
 "nbformat": 4,
 "nbformat_minor": 4
}
