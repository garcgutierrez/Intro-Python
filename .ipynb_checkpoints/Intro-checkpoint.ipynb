{
 "cells": [
  {
   "cell_type": "markdown",
   "metadata": {},
   "source": [
    "# Bienvenidos a \"una breve introducción a Python\""
   ]
  },
  {
   "cell_type": "markdown",
   "metadata": {},
   "source": [
    "### La mayoría de las operaciones son muy intuitivas (parecido a como hacíais en C):"
   ]
  },
  {
   "cell_type": "code",
   "execution_count": 2,
   "metadata": {
    "scrolled": true
   },
   "outputs": [
    {
     "name": "stdout",
     "output_type": "stream",
     "text": [
      "15\n",
      "50\n",
      "25\n",
      "5\n"
     ]
    }
   ],
   "source": [
    "x = 5 # En python, al declarar las variables, no se definen los tipos\n",
    "y = 10 # da igual que sea un int, float, string, etc.\n",
    "print(x+y) #suma\n",
    "print(x*y) # multiplicación\n",
    "print(x**2) # OJO! El cálculo de las potencias es distinto que en C o Matlab\n",
    "print(x%y) # Operación modulo"
   ]
  },
  {
   "cell_type": "markdown",
   "metadata": {},
   "source": [
    "### Para cargar las librerias científicas se usan expresiones del tipo:"
   ]
  },
  {
   "cell_type": "code",
   "execution_count": 3,
   "metadata": {},
   "outputs": [],
   "source": [
    "from scipy import integrate\n",
    "import numpy as np"
   ]
  },
  {
   "cell_type": "markdown",
   "metadata": {},
   "source": [
    "#### En general, pylab nos permitirá trabajar en Python de manera similar a como se haría en Matlab"
   ]
  },
  {
   "cell_type": "code",
   "execution_count": 4,
   "metadata": {},
   "outputs": [],
   "source": [
    "from pylab import *"
   ]
  },
  {
   "cell_type": "markdown",
   "metadata": {},
   "source": [
    "### Trabajar con strings en Python es muy sencillo"
   ]
  },
  {
   "cell_type": "code",
   "execution_count": 5,
   "metadata": {
    "scrolled": true
   },
   "outputs": [
    {
     "name": "stdout",
     "output_type": "stream",
     "text": [
      "Esto es una string\n",
      "Esto es una string mas larga\n",
      "Esto\n",
      "Esto es una string mucho más, pero que mucho más, larga\n"
     ]
    }
   ],
   "source": [
    "var1 = 'Esto es una string'\n",
    "print(var1)\n",
    "var2 = var1+' mas larga'\n",
    "print(var2)\n",
    "print(var1[:4])\n",
    "print(var2.replace('mas', 'mucho más, pero que mucho más,'))"
   ]
  },
  {
   "cell_type": "markdown",
   "metadata": {},
   "source": [
    "### En python, los datos se suelen agrupar en listas, diccionarios o tuplas"
   ]
  },
  {
   "cell_type": "code",
   "execution_count": 6,
   "metadata": {},
   "outputs": [
    {
     "name": "stdout",
     "output_type": "stream",
     "text": [
      "23 hola\n",
      "0.5\n",
      "2.0\n"
     ]
    },
    {
     "ename": "TypeError",
     "evalue": "'tuple' object does not support item assignment",
     "output_type": "error",
     "traceback": [
      "\u001b[1;31m---------------------------------------------------------------------------\u001b[0m",
      "\u001b[1;31mTypeError\u001b[0m                                 Traceback (most recent call last)",
      "\u001b[1;32m<ipython-input-6-858a41ecaa8a>\u001b[0m in \u001b[0;36m<module>\u001b[1;34m\u001b[0m\n\u001b[0;32m      5\u001b[0m \u001b[0mtupla\u001b[0m \u001b[1;33m=\u001b[0m \u001b[1;33m(\u001b[0m\u001b[1;36m2.0\u001b[0m\u001b[1;33m,\u001b[0m \u001b[1;36m4.0\u001b[0m\u001b[1;33m)\u001b[0m \u001b[1;31m# las tuplas son permanentes, no podemos modificar un elemento de la misma\u001b[0m\u001b[1;33m\u001b[0m\u001b[1;33m\u001b[0m\u001b[0m\n\u001b[0;32m      6\u001b[0m \u001b[0mprint\u001b[0m\u001b[1;33m(\u001b[0m\u001b[0mtupla\u001b[0m\u001b[1;33m[\u001b[0m\u001b[1;36m0\u001b[0m\u001b[1;33m]\u001b[0m\u001b[1;33m)\u001b[0m\u001b[1;33m\u001b[0m\u001b[1;33m\u001b[0m\u001b[0m\n\u001b[1;32m----> 7\u001b[1;33m \u001b[0mtupla\u001b[0m\u001b[1;33m[\u001b[0m\u001b[1;36m0\u001b[0m\u001b[1;33m]\u001b[0m\u001b[1;33m=\u001b[0m\u001b[1;36m1\u001b[0m \u001b[1;31m# Esto nos da error\u001b[0m\u001b[1;33m\u001b[0m\u001b[1;33m\u001b[0m\u001b[0m\n\u001b[0m",
      "\u001b[1;31mTypeError\u001b[0m: 'tuple' object does not support item assignment"
     ]
    }
   ],
   "source": [
    "lista = [23, 'hola', 24.0] # una lista puede contener cualquier tipo de variables, incluso listas\n",
    "print(lista[0], lista[1])\n",
    "diccionario = {'cl':0.5, 'cd':0.01, 'alpha':0.0} # en los diccionarios cada variable esta relaccionado con una entrada\n",
    "print(diccionario['cl'])\n",
    "tupla = (2.0, 4.0) # las tuplas son permanentes, no podemos modificar un elemento de la misma\n",
    "print(tupla[0])\n",
    "tupla[0]=1 # Esto nos da error"
   ]
  },
  {
   "cell_type": "markdown",
   "metadata": {},
   "source": [
    "### Los bucles 'for' son ligeramente distintos. Se trata de definir una lista, y la variable \"i\" (o la que sea), recorrera cada uno de los valores en esa lista"
   ]
  },
  {
   "cell_type": "code",
   "execution_count": 9,
   "metadata": {
    "scrolled": true
   },
   "outputs": [
    {
     "name": "stdout",
     "output_type": "stream",
     "text": [
      "0\n",
      "1\n",
      "2\n",
      "3\n",
      "4\n",
      "5\n",
      "6\n",
      "7\n",
      "8\n",
      "9\n"
     ]
    }
   ],
   "source": [
    "for i in arange(10):\n",
    "    print(i)"
   ]
  },
  {
   "cell_type": "markdown",
   "metadata": {},
   "source": [
    "### Los bucle 'while' son más parecidos a C:"
   ]
  },
  {
   "cell_type": "code",
   "execution_count": 10,
   "metadata": {
    "scrolled": true
   },
   "outputs": [
    {
     "name": "stdout",
     "output_type": "stream",
     "text": [
      "0\n",
      "1\n",
      "2\n",
      "3\n",
      "4\n"
     ]
    }
   ],
   "source": [
    "i=0\n",
    "while(i<5):\n",
    "    print(i)\n",
    "    i+=1"
   ]
  },
  {
   "cell_type": "markdown",
   "metadata": {},
   "source": [
    "### En python son especialmente útil las 'List Comprehensions'"
   ]
  },
  {
   "cell_type": "code",
   "execution_count": 11,
   "metadata": {
    "scrolled": true
   },
   "outputs": [
    {
     "name": "stdout",
     "output_type": "stream",
     "text": [
      "0\n",
      "1\n",
      "2\n",
      "3\n",
      "4\n",
      "[0, 1, 4, 9, 16]\n"
     ]
    }
   ],
   "source": [
    "[print(i) for i in arange(5)]\n",
    "cuadrados = [i**2 for i in arange(5)]\n",
    "print(cuadrados)"
   ]
  },
  {
   "cell_type": "markdown",
   "metadata": {},
   "source": [
    "### A la hora de definir una función tampoco hay que especificar el tipo de los argumentos o qué devuelve la función:"
   ]
  },
  {
   "cell_type": "code",
   "execution_count": 12,
   "metadata": {},
   "outputs": [
    {
     "name": "stdout",
     "output_type": "stream",
     "text": [
      "ejemplo de una funcion\n"
     ]
    }
   ],
   "source": [
    "def nuevaFuncion(arg1, arg2):\n",
    "    print(arg1+arg2)\n",
    "\n",
    "nuevaFuncion('ejemplo de una', ' funcion')"
   ]
  },
  {
   "cell_type": "markdown",
   "metadata": {},
   "source": [
    "### Especialmente preparados para trabajar con matrices:"
   ]
  },
  {
   "cell_type": "code",
   "execution_count": 13,
   "metadata": {
    "scrolled": false
   },
   "outputs": [
    {
     "name": "stdout",
     "output_type": "stream",
     "text": [
      "Resultado 1: [[0. 0. 0. 0. 0.]\n",
      " [0. 0. 0. 0. 0.]\n",
      " [0. 0. 0. 0. 0.]\n",
      " [0. 0. 0. 0. 0.]\n",
      " [0. 0. 0. 0. 0.]] \n",
      " 2:[[1. 1. 1. 1. 1.]\n",
      " [1. 1. 1. 1. 1.]\n",
      " [1. 1. 1. 1. 1.]\n",
      " [1. 1. 1. 1. 1.]\n",
      " [1. 1. 1. 1. 1.]]  \n",
      " 3:[[1. 0. 0. 0. 0.]\n",
      " [0. 1. 0. 0. 0.]\n",
      " [0. 0. 1. 0. 0.]\n",
      " [0. 0. 0. 1. 0.]\n",
      " [0. 0. 0. 0. 1.]] \n",
      " 4:[[0.7914219  0.0207427  0.09757935 0.94789789 0.36971329]\n",
      " [0.59489954 0.54135424 0.4950226  0.65637253 0.29482114]\n",
      " [0.41093282 0.46799544 0.17641509 0.47257584 0.29111165]\n",
      " [0.79350696 0.91994827 0.20527829 0.95875872 0.30318065]\n",
      " [0.62966119 0.34925626 0.19434498 0.23551201 0.63894963]]\n"
     ]
    }
   ],
   "source": [
    "matriz_de_0 = zeros([5,5])\n",
    "matriz_de_1 = ones([5,5])\n",
    "matriz_identidad = eye(5) # Matriz identidad\n",
    "matriz_random = random([5,5]) # Matriz con números aleatorios\n",
    "print('Resultado 1: {} \\n 2:{}  \\n 3:{} \\n 4:{}'.format(matriz_de_0, matriz_de_1, matriz_identidad, matriz_random))"
   ]
  },
  {
   "cell_type": "markdown",
   "metadata": {},
   "source": [
    "### Para acceder a los datos de las matrices:"
   ]
  },
  {
   "cell_type": "code",
   "execution_count": 14,
   "metadata": {},
   "outputs": [
    {
     "name": "stdout",
     "output_type": "stream",
     "text": [
      "[0.0207427  0.54135424 0.46799544 0.91994827 0.34925626]\n",
      "[0.41093282 0.46799544 0.17641509 0.47257584 0.29111165]\n",
      "[0.0207427  0.46799544 0.34925626]\n",
      "[0.34925626 0.91994827 0.46799544 0.54135424 0.0207427 ]\n",
      "submatrix: [[0.63894963 0.23551201 0.19434498 0.34925626 0.62966119]\n",
      " [0.29111165 0.47257584 0.17641509 0.46799544 0.41093282]\n",
      " [0.36971329 0.94789789 0.09757935 0.0207427  0.7914219 ]]\n"
     ]
    }
   ],
   "source": [
    "columna = matriz_random[:,1]\n",
    "print(columna)\n",
    "fila = matriz_random[2,:]\n",
    "print(fila)\n",
    "print(columna[::2])\n",
    "print(columna[::-1])\n",
    "print('submatrix:',matriz_random[::-2,::-1])"
   ]
  },
  {
   "cell_type": "markdown",
   "metadata": {},
   "source": [
    "### Es útil conocer las dimensiones de las matrices. La multiplicación se realiza elemento a elemento."
   ]
  },
  {
   "cell_type": "code",
   "execution_count": 15,
   "metadata": {},
   "outputs": [
    {
     "name": "stdout",
     "output_type": "stream",
     "text": [
      "shape a: (5,)   shape matriz_de_1: (5, 5)\n",
      "[[0. 1. 2. 3. 4.]\n",
      " [0. 1. 2. 3. 4.]\n",
      " [0. 1. 2. 3. 4.]\n",
      " [0. 1. 2. 3. 4.]\n",
      " [0. 1. 2. 3. 4.]]\n",
      "Cuidado con las dimensiones:\n",
      "[[0. 0. 0. 0. 0.]\n",
      " [1. 1. 1. 1. 1.]\n",
      " [2. 2. 2. 2. 2.]\n",
      " [3. 3. 3. 3. 3.]\n",
      " [4. 4. 4. 4. 4.]]\n"
     ]
    }
   ],
   "source": [
    "a = arange(5)\n",
    "print('shape a: {}   shape matriz_de_1: {}'.format(shape(a), shape(matriz_de_1)))\n",
    "print(matriz_de_1*a)\n",
    "print('Cuidado con las dimensiones:')\n",
    "print(matriz_de_1*a.reshape([-1,1]))"
   ]
  },
  {
   "cell_type": "markdown",
   "metadata": {},
   "source": [
    "### Las típicas operaciones con matrices son sencillas:"
   ]
  },
  {
   "cell_type": "code",
   "execution_count": 40,
   "metadata": {},
   "outputs": [
    {
     "name": "stdout",
     "output_type": "stream",
     "text": [
      "Matriz  transpuesta: \n",
      "[[0.7914219  0.59489954 0.41093282 0.79350696 0.62966119]\n",
      " [0.0207427  0.54135424 0.46799544 0.91994827 0.34925626]\n",
      " [0.09757935 0.4950226  0.17641509 0.20527829 0.19434498]\n",
      " [0.94789789 0.65637253 0.47257584 0.95875872 0.23551201]\n",
      " [0.36971329 0.29482114 0.29111165 0.30318065 0.63894963]]\n",
      "Inversa:\n",
      " [[  0.04534783   1.36585188 -11.45961734   4.01532634   2.65938191]\n",
      " [ -1.06193048  -0.46920784   0.64037966   1.0448079    0.04343797]\n",
      " [ -0.34149674   2.92196655  -0.32902943  -1.42031467  -0.32679477]\n",
      " [  0.96470268  -0.77001209   6.16719538  -1.90547722  -2.1085952 ]\n",
      " [  0.28406183  -1.69445686   8.76988748  -3.39370582  -0.20278617]]\n",
      "Producto: \n",
      " [[ 1.00000000e+00 -7.00447673e-16 -1.43299607e-16 -1.10151631e-16\n",
      "  -4.40142179e-16]\n",
      " [-5.84311081e-17  1.00000000e+00  2.03532036e-17 -1.22198985e-16\n",
      "   2.36687244e-17]\n",
      " [ 2.50538608e-16  4.18596773e-17  1.00000000e+00 -1.61630421e-16\n",
      "   1.80082902e-17]\n",
      " [ 1.31186304e-15  1.18162196e-15  2.99088742e-16  1.00000000e+00\n",
      "   5.66670995e-16]\n",
      " [ 8.88662605e-16  6.03358855e-16  6.89901677e-17  5.54932173e-16\n",
      "   1.00000000e+00]]\n"
     ]
    }
   ],
   "source": [
    "Transpuesta = matriz_random.T\n",
    "print('Matriz  transpuesta: \\n{}'.format(Transpuesta))\n",
    "inversa = inv(matriz_random)\n",
    "print('Inversa:\\n {}'.format(inversa))\n",
    "producto = inversa@matriz_random\n",
    "print('Producto: \\n {}'.format(producto))"
   ]
  },
  {
   "cell_type": "markdown",
   "metadata": {},
   "source": [
    "### Python es un lenguaje interpretado $\\implies$ hay que vectorizar todo lo que se pueda\n",
    "Vamo a ver un ejemplo:"
   ]
  },
  {
   "cell_type": "code",
   "execution_count": 17,
   "metadata": {},
   "outputs": [],
   "source": [
    "import timeit"
   ]
  },
  {
   "cell_type": "markdown",
   "metadata": {},
   "source": [
    "### Así se calcularía la norma de un vector en C:"
   ]
  },
  {
   "cell_type": "code",
   "execution_count": 42,
   "metadata": {},
   "outputs": [],
   "source": [
    "def norm_vector():\n",
    "    vector = random(5000)\n",
    "    norm = 0\n",
    "    for n in vector:\n",
    "        norm+=n\n",
    "    norm = sqrt(norm)\n",
    "    return(norm)"
   ]
  },
  {
   "cell_type": "code",
   "execution_count": 43,
   "metadata": {},
   "outputs": [
    {
     "data": {
      "text/plain": [
       "1.4443147854617848"
      ]
     },
     "execution_count": 43,
     "metadata": {},
     "output_type": "execute_result"
    }
   ],
   "source": [
    "timeit.timeit(norm_vector, number=1000)"
   ]
  },
  {
   "cell_type": "markdown",
   "metadata": {},
   "source": [
    "### Sin embargo, en Python, hay que evitar, siempre que se pueda, los bucles for:"
   ]
  },
  {
   "cell_type": "code",
   "execution_count": 20,
   "metadata": {},
   "outputs": [],
   "source": [
    "def norm_vector_vectorizado():\n",
    "    vector = random(5000)\n",
    "    norm = sqrt(sum(vector**2))\n",
    "    return(norm)"
   ]
  },
  {
   "cell_type": "code",
   "execution_count": 21,
   "metadata": {},
   "outputs": [
    {
     "data": {
      "text/plain": [
       "0.0932055611614695"
      ]
     },
     "execution_count": 21,
     "metadata": {},
     "output_type": "execute_result"
    }
   ],
   "source": [
    "timeit.timeit(norm_vector_vectorizado, number=1000)"
   ]
  },
  {
   "cell_type": "markdown",
   "metadata": {},
   "source": [
    "### Y también es recomendable conocer las funciones que nos sirven para hacer esa tarea:"
   ]
  },
  {
   "cell_type": "code",
   "execution_count": 22,
   "metadata": {},
   "outputs": [],
   "source": [
    "def norm_vector_func():\n",
    "    vector = random(5000)\n",
    "    normv = norm(vector)\n",
    "    return(normv)"
   ]
  },
  {
   "cell_type": "code",
   "execution_count": 23,
   "metadata": {},
   "outputs": [
    {
     "data": {
      "text/plain": [
       "0.09768811159869517"
      ]
     },
     "execution_count": 23,
     "metadata": {},
     "output_type": "execute_result"
    }
   ],
   "source": [
    "timeit.timeit(norm_vector_func, number=1000)"
   ]
  },
  {
   "cell_type": "markdown",
   "metadata": {},
   "source": [
    "### Aprovechar al máximo la vectorización"
   ]
  },
  {
   "cell_type": "code",
   "execution_count": 24,
   "metadata": {},
   "outputs": [
    {
     "name": "stdout",
     "output_type": "stream",
     "text": [
      "integers: [ 0  1  2  3  4  5  6  7  8  9 10 11 12 13 14 15 16 17 18 19 20 21 22 23\n",
      " 24 25 26 27]   \n",
      "  pares: [ 0  2  4  6  8 10 12 14 16 18 20 22 24 26]    \n",
      " múltiplos 4 lista: [0, 4, 8, 12, 16, 20, 24] \n",
      " múltiplos 4 array [ 0  4  8 12 16 20 24]\n"
     ]
    }
   ],
   "source": [
    "integers = arange(28)\n",
    "pares = arange(0,28,2)\n",
    "multiplos_4_lista = [num for num in pares if num%4==0]\n",
    "multiplos_4_array = array([num for num in pares if num%4==0])\n",
    "print('integers: {}   \\n  pares: {}    \\n múltiplos 4 lista: {} \\n múltiplos 4 array {}'.format(integers,\n",
    "                    pares, multiplos_4_lista, multiplos_4_array))"
   ]
  },
  {
   "cell_type": "markdown",
   "metadata": {},
   "source": [
    "### Para visualizar los datos:"
   ]
  },
  {
   "cell_type": "code",
   "execution_count": 39,
   "metadata": {},
   "outputs": [
    {
     "data": {
      "text/plain": [
       "Text(0, 0.5, 'y-axis')"
      ]
     },
     "execution_count": 39,
     "metadata": {},
     "output_type": "execute_result"
    },
    {
     "data": {
      "image/png": "[encoded data removed]",
      "text/plain": [
       "<Figure size 432x288 with 1 Axes>"
      ]
     },
     "metadata": {
      "needs_background": "light"
     },
     "output_type": "display_data"
    }
   ],
   "source": [
    "t = linspace(0, 2*pi, 20)\n",
    "y = sin(t)**2+cos(t)+exp(1j*t)\n",
    "plot(t,real(y),'-r',label='real') # buscar los distintos colores y markers disponibles en matplotlib\n",
    "plot(t, imag(y), '--ok', label='imag', markersize=10)\n",
    "xlabel('t')\n",
    "title('Este es un gráfico sin sentido')\n",
    "legend()\n",
    "ylabel('y-axis')"
   ]
  },
  {
   "cell_type": "markdown",
   "metadata": {},
   "source": [
    "### Támbien podemos usar gráficos más complejos:"
   ]
  },
  {
   "cell_type": "code",
   "execution_count": 26,
   "metadata": {
    "scrolled": true
   },
   "outputs": [
    {
     "data": {
      "text/plain": [
       "<matplotlib.colorbar.Colorbar at 0x16a0caed5c0>"
      ]
     },
     "execution_count": 26,
     "metadata": {},
     "output_type": "execute_result"
    },
    {
     "data": {
      "image/png": "[encoded data removed]",
      "text/plain": [
       "<Figure size 432x288 with 2 Axes>"
      ]
     },
     "metadata": {
      "needs_background": "light"
     },
     "output_type": "display_data"
    }
   ],
   "source": [
    "x = linspace(-1, 1, 100)\n",
    "y = linspace(-1, 1,100)\n",
    "xx,yy = meshgrid(x, y)\n",
    "zz = xx*exp(yy)+cos(xx)\n",
    "pcolormesh(x,y, zz)\n",
    "colorbar()"
   ]
  },
  {
   "cell_type": "markdown",
   "metadata": {},
   "source": [
    "# Primeros pasos para el post procesado de los datos de la práctica\n",
    "### Vamos a trabajar un poco con los distintos archivos de la práctica.\n",
    "Para ver que archivos tenemos en nuestro directorio, usamos la libreria glob"
   ]
  },
  {
   "cell_type": "code",
   "execution_count": 51,
   "metadata": {},
   "outputs": [
    {
     "name": "stdout",
     "output_type": "stream",
     "text": [
      "['-2 GRADOS.csv', '-4 GRADOS.csv', '-6 GRADOS.csv', '0 GRADOS.csv', '10 GRADOS.csv', '12 GRADOS.csv', '14 GRADOS.csv', '16 GRADOS.csv', '2 GRADOS.csv', '4 GRADOS.csv', '6 GRADOS.csv', '8 GRADOS.csv']\n",
      "[[1.0e+00 0.0e+00 1.0e+00]\n",
      " [2.0e+00 2.0e-02 1.0e+00]\n",
      " [3.0e+00 4.0e-02 1.0e+00]\n",
      " [4.0e+00 6.0e-02 1.0e+00]\n",
      " [5.0e+00 8.0e-02 1.0e+00]\n",
      " [6.0e+00 1.6e-01 1.0e+00]\n",
      " [7.0e+00 2.0e-01 1.0e+00]\n",
      " [8.0e+00 2.4e-01 1.0e+00]\n",
      " [9.0e+00 2.8e-01 1.0e+00]\n",
      " [1.0e+01 3.2e-01 1.0e+00]\n",
      " [1.1e+01 3.6e-01 1.0e+00]\n",
      " [1.2e+01 4.4e-01 1.0e+00]\n",
      " [1.3e+01 6.0e-01 1.0e+00]\n",
      " [1.4e+01 7.6e-01 1.0e+00]\n",
      " [1.5e+01 9.2e-01 1.0e+00]\n",
      " [1.6e+01 2.0e-02 2.0e+00]\n",
      " [1.7e+01 4.0e-02 2.0e+00]\n",
      " [1.8e+01 6.0e-02 2.0e+00]\n",
      " [1.9e+01 8.0e-02 2.0e+00]\n",
      " [2.0e+01 1.2e-01 2.0e+00]\n",
      " [2.1e+01 1.6e-01 2.0e+00]\n",
      " [2.2e+01 2.0e-01 2.0e+00]\n",
      " [2.3e+01 2.4e-01 2.0e+00]\n",
      " [2.4e+01 2.8e-01 2.0e+00]\n",
      " [2.5e+01 3.2e-01 2.0e+00]\n",
      " [2.6e+01 3.6e-01 2.0e+00]\n",
      " [2.7e+01 5.2e-01 2.0e+00]\n",
      " [2.8e+01 6.8e-01 2.0e+00]\n",
      " [2.9e+01 8.4e-01 2.0e+00]\n",
      " [3.0e+01 9.2e-01 2.0e+00]]\n"
     ]
    }
   ],
   "source": [
    "import glob as gl\n",
    "archivos = gl.glob('*DOS.csv') # Nos va a buscar todos los archivos que acaban en 'DOS.csv'\n",
    "print(archivos)\n",
    "tomas = genfromtxt('tomas.csv', delimiter=';') #Tambien cargamos el archivo que utilizamos para determinar donde están las tomas\n",
    "print(tomas)"
   ]
  },
  {
   "cell_type": "markdown",
   "metadata": {},
   "source": [
    "### Definimos la función que nos permite calcular la forma del perfil naca"
   ]
  },
  {
   "cell_type": "code",
   "execution_count": 28,
   "metadata": {},
   "outputs": [],
   "source": [
    "def calcYCoord(x, positions, XX):\n",
    "    signo = array([1 if pos==1 else -1 for pos in positions]) # Determinamos si es extradós o intradós\n",
    "    yt = signo*5*XX*(0.2969*sqrt(x)-0.126*x-0.3516*x**2+0.2843*x**3-0.1015*x**4)\n",
    "    return(yt)"
   ]
  },
  {
   "cell_type": "code",
   "execution_count": 54,
   "metadata": {},
   "outputs": [],
   "source": [
    "x = tomas[:, 1]\n",
    "positions = tomas[:, 2]\n",
    "y = calcYCoord(x, positions, 0.12)"
   ]
  },
  {
   "cell_type": "code",
   "execution_count": 55,
   "metadata": {
    "scrolled": true
   },
   "outputs": [
    {
     "data": {
      "text/plain": [
       "[<matplotlib.lines.Line2D at 0x16a0def8630>]"
      ]
     },
     "execution_count": 55,
     "metadata": {},
     "output_type": "execute_result"
    },
    {
     "data": {
      "image/png": "[encoded data removed]",
      "text/plain": [
       "<Figure size 432x288 with 1 Axes>"
      ]
     },
     "metadata": {
      "needs_background": "light"
     },
     "output_type": "display_data"
    }
   ],
   "source": [
    "plot(x, y, '-r')"
   ]
  },
  {
   "cell_type": "code",
   "execution_count": 56,
   "metadata": {
    "scrolled": true
   },
   "outputs": [
    {
     "data": {
      "text/plain": [
       "[<matplotlib.lines.Line2D at 0x16a0df63748>]"
      ]
     },
     "execution_count": 56,
     "metadata": {},
     "output_type": "execute_result"
    },
    {
     "data": {
      "image/png": "[encoded data removed]",
      "text/plain": [
       "<Figure size 432x288 with 1 Axes>"
      ]
     },
     "metadata": {
      "needs_background": "light"
     },
     "output_type": "display_data"
    }
   ],
   "source": [
    "x[15:] = (x[15:])[::-1]\n",
    "y[15:] = (y[15:])[::-1]\n",
    "plot(x, y, '-k')"
   ]
  },
  {
   "cell_type": "markdown",
   "metadata": {},
   "source": [
    "### Calculamos los diferenciales $dx$ y $dy$ para cada punto. El primer punto y el final tienen una fórmula especial."
   ]
  },
  {
   "cell_type": "code",
   "execution_count": 57,
   "metadata": {},
   "outputs": [],
   "source": [
    "def calcDx(x):\n",
    "    dx = 0.5*(x[2:]-x[0:-2])\n",
    "    dx1 = (x[1] - x[0])\n",
    "    dx2 = (x[-1] - x[-2])/2 + (x[0] - x[-1])/2\n",
    "    return(r_[dx1,dx,dx2])\n",
    "def calcDy(y):\n",
    "    dy = 0.5*(y[2:] - y[0:-2])\n",
    "    dy1 = (y[1] - y[0])/2 + (y[0] - y[-1])/2\n",
    "    dy2 = (y[-1] - y[-2])/2 + (y[0] - y[-1])/2\n",
    "    return(r_[dy1,dy,dy2])"
   ]
  },
  {
   "cell_type": "code",
   "execution_count": 58,
   "metadata": {},
   "outputs": [],
   "source": [
    "dx = calcDx(x)\n",
    "dy = calcDy(y)"
   ]
  },
  {
   "cell_type": "markdown",
   "metadata": {},
   "source": [
    "### Definimos la función que nos calcula la velocidad a partir de las medidas del tubo pitot"
   ]
  },
  {
   "cell_type": "code",
   "execution_count": 52,
   "metadata": {},
   "outputs": [
    {
     "name": "stdout",
     "output_type": "stream",
     "text": [
      "(12,)\n",
      "[-2 -4 -6  0 10 12 14 16  2  4  6  8]\n"
     ]
    }
   ],
   "source": [
    "medidas = array([genfromtxt(file , delimiter=',', autostrip=True, dtype=str) for file in archivos])\n",
    "alphas = array([int(file.split(' GRADOS')[0]) for file in archivos])\n",
    "print('Tenemos {} angulos de ataque distintos'.format(medidas.shape))\n",
    "print(alphas)"
   ]
  },
  {
   "cell_type": "code",
   "execution_count": 61,
   "metadata": {},
   "outputs": [],
   "source": [
    "rho = 1\n",
    "def calcVel(pressure):\n",
    "    p0 = pressure[:, -1].reshape([-1,1])\n",
    "    pinf = pressure[:, -2].reshape([-1,1])\n",
    "    vel = sqrt((p0-pinf)/(0.5*rho))\n",
    "    return(vel)"
   ]
  },
  {
   "cell_type": "markdown",
   "metadata": {},
   "source": [
    "### Definimos la función que nos calcula los $c_p = 1-\\frac{p_0-p_i}{p_0-p_\\infty}$ a partir de las medidas del tubo pitot"
   ]
  },
  {
   "cell_type": "code",
   "execution_count": 30,
   "metadata": {},
   "outputs": [],
   "source": [
    "def calcCp(pressure):\n",
    "    pi = pressure[:, :-2]\n",
    "    p0 = pressure[:, -1].reshape([-1,1])\n",
    "    pinf = pressure[:, -2].reshape([-1,1])\n",
    "    cp = 1 - (p0 - pi)/(p0 - pinf)\n",
    "    return(cp)"
   ]
  },
  {
   "cell_type": "code",
   "execution_count": 31,
   "metadata": {},
   "outputs": [],
   "source": [
    "def convertToDouble(arr):\n",
    "    new_array = zeros(shape(arr))\n",
    "    for i in arange(shape(arr)[0]):\n",
    "        for j in arange(shape(arr)[1]):\n",
    "            new_array[i,j] = float(arr[i,j].replace(' ',''))\n",
    "    return(new_array)"
   ]
  },
  {
   "cell_type": "code",
   "execution_count": 71,
   "metadata": {},
   "outputs": [
    {
     "data": {
      "text/plain": [
       "(12,)"
      ]
     },
     "execution_count": 71,
     "metadata": {},
     "output_type": "execute_result"
    }
   ],
   "source": [
    "vl = []\n",
    "cpl = []\n",
    "arg_alpha = argsort(alphas)\n",
    "medidas = medidas[arg_alpha]\n",
    "alphas = alphas[arg_alpha]\n",
    "for medida, alpha in zip(medidas, alphas):\n",
    "    # medida = medidas[0]\n",
    "    pressure = medida[:,7:-1]\n",
    "    pressure = convertToDouble(pressure)\n",
    "    # pressure[:,15:] = (pressure[:,15:])[:,::-1]\n",
    "    cp = calcCp(pressure)\n",
    "    cpl.append(cp)\n",
    "    vl.append(calcVel(pressure))\n",
    "cpl = array(cpl)\n",
    "shape(vl)"
   ]
  },
  {
   "cell_type": "code",
   "execution_count": 90,
   "metadata": {},
   "outputs": [
    {
     "data": {
      "text/plain": [
       "Text(0, 0.5, 'm/s')"
      ]
     },
     "execution_count": 90,
     "metadata": {},
     "output_type": "execute_result"
    },
    {
     "data": {
      "image/png": "[encoded data removed]",
      "text/plain": [
       "<Figure size 576x396 with 1 Axes>"
      ]
     },
     "metadata": {},
     "output_type": "display_data"
    }
   ],
   "source": [
    "vel_media_alpha = array([mean(v) for v in vl])\n",
    "vel_std_alpha = array([std(v) for v in vl])\n",
    "style.use('seaborn')\n",
    "errorbar(alphas, vel_media_alpha, yerr=vel_std_alpha, label='v mean')\n",
    "xlabel(r'$\\alpha$')\n",
    "ylabel(r'm/s')"
   ]
  },
  {
   "cell_type": "code",
   "execution_count": 99,
   "metadata": {},
   "outputs": [
    {
     "data": {
      "text/plain": [
       "Text(0.5, 1.0, '$\\\\alpha = $ 4 deg')"
      ]
     },
     "execution_count": 99,
     "metadata": {},
     "output_type": "execute_result"
    },
    {
     "data": {
      "image/png": "[encoded data removed]",
      "text/plain": [
       "<Figure size 576x396 with 1 Axes>"
      ]
     },
     "metadata": {},
     "output_type": "display_data"
    }
   ],
   "source": [
    "ii = 5\n",
    "cpp = cpl[ii]\n",
    "cp_mean = cpp.mean(axis = 0)\n",
    "cp_std = cpp.std(axis = 0)\n",
    "ylim([1,-1.5])\n",
    "errorbar(x, cp_mean, yerr=cp_std, label='v mean')\n",
    "title(r'$\\alpha = $ {} deg'.format(alphas[ii]))"
   ]
  },
  {
   "cell_type": "code",
   "execution_count": null,
   "metadata": {},
   "outputs": [],
   "source": []
  },
  {
   "cell_type": "code",
   "execution_count": null,
   "metadata": {},
   "outputs": [],
   "source": []
  },
  {
   "cell_type": "code",
   "execution_count": null,
   "metadata": {},
   "outputs": [],
   "source": []
  }
 ],
 "metadata": {
  "kernelspec": {
   "display_name": "Python 3",
   "language": "python",
   "name": "python3"
  },
  "language_info": {
   "codemirror_mode": {
    "name": "ipython",
    "version": 3
   },
   "file_extension": ".py",
   "mimetype": "text/x-python",
   "name": "python",
   "nbconvert_exporter": "python",
   "pygments_lexer": "ipython3",
   "version": "3.6.10"
  }
 },
 "nbformat": 4,
 "nbformat_minor": 4
}
